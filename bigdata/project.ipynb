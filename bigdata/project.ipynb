{
 "cells": [
  {
   "cell_type": "markdown",
   "id": "657ab284",
   "metadata": {},
   "source": [
    "# Introvert vs Extrovert Analysis Project\n",
    "\n",
    "## Introduction\n",
    "This project analyzes personality data to explore differences between introverts and extroverts. \n",
    "The dataset contains information about personality types, friend circle sizes, and time spent alone.\n",
    "\n",
    "Research questions:\n",
    "- How does friend circle size differ between introverts and extroverts?\n",
    "- Is there a correlation between personality type and time spent alone?\n",
    "- What's the distribution of different personality types in the dataset?"
   ]
  },
  {
   "cell_type": "markdown",
   "id": "330d2aeb",
   "metadata": {},
   "source": [
    "## Data Overview and Exploration"
   ]
  },
  {
   "cell_type": "code",
   "execution_count": 62,
   "id": "2c17cb8a",
   "metadata": {},
   "outputs": [
    {
     "name": "stdout",
     "output_type": "stream",
     "text": [
      "\n",
      "First ten rows: \n"
     ]
    },
    {
     "data": {
      "text/html": [
       "<div>\n",
       "<style scoped>\n",
       "    .dataframe tbody tr th:only-of-type {\n",
       "        vertical-align: middle;\n",
       "    }\n",
       "\n",
       "    .dataframe tbody tr th {\n",
       "        vertical-align: top;\n",
       "    }\n",
       "\n",
       "    .dataframe thead th {\n",
       "        text-align: right;\n",
       "    }\n",
       "</style>\n",
       "<table border=\"1\" class=\"dataframe\">\n",
       "  <thead>\n",
       "    <tr style=\"text-align: right;\">\n",
       "      <th></th>\n",
       "      <th>Time_spent_Alone</th>\n",
       "      <th>Stage_fear</th>\n",
       "      <th>Social_event_attendance</th>\n",
       "      <th>Going_outside</th>\n",
       "      <th>Drained_after_socializing</th>\n",
       "      <th>Friends_circle_size</th>\n",
       "      <th>Post_frequency</th>\n",
       "      <th>Personality</th>\n",
       "    </tr>\n",
       "  </thead>\n",
       "  <tbody>\n",
       "    <tr>\n",
       "      <th>0</th>\n",
       "      <td>4.0</td>\n",
       "      <td>No</td>\n",
       "      <td>4.0</td>\n",
       "      <td>6.0</td>\n",
       "      <td>No</td>\n",
       "      <td>13.0</td>\n",
       "      <td>5.0</td>\n",
       "      <td>Extrovert</td>\n",
       "    </tr>\n",
       "    <tr>\n",
       "      <th>1</th>\n",
       "      <td>9.0</td>\n",
       "      <td>Yes</td>\n",
       "      <td>0.0</td>\n",
       "      <td>0.0</td>\n",
       "      <td>Yes</td>\n",
       "      <td>0.0</td>\n",
       "      <td>3.0</td>\n",
       "      <td>Introvert</td>\n",
       "    </tr>\n",
       "    <tr>\n",
       "      <th>2</th>\n",
       "      <td>9.0</td>\n",
       "      <td>Yes</td>\n",
       "      <td>1.0</td>\n",
       "      <td>2.0</td>\n",
       "      <td>Yes</td>\n",
       "      <td>5.0</td>\n",
       "      <td>2.0</td>\n",
       "      <td>Introvert</td>\n",
       "    </tr>\n",
       "    <tr>\n",
       "      <th>3</th>\n",
       "      <td>0.0</td>\n",
       "      <td>No</td>\n",
       "      <td>6.0</td>\n",
       "      <td>7.0</td>\n",
       "      <td>No</td>\n",
       "      <td>14.0</td>\n",
       "      <td>8.0</td>\n",
       "      <td>Extrovert</td>\n",
       "    </tr>\n",
       "    <tr>\n",
       "      <th>4</th>\n",
       "      <td>3.0</td>\n",
       "      <td>No</td>\n",
       "      <td>9.0</td>\n",
       "      <td>4.0</td>\n",
       "      <td>No</td>\n",
       "      <td>8.0</td>\n",
       "      <td>5.0</td>\n",
       "      <td>Extrovert</td>\n",
       "    </tr>\n",
       "    <tr>\n",
       "      <th>5</th>\n",
       "      <td>1.0</td>\n",
       "      <td>No</td>\n",
       "      <td>7.0</td>\n",
       "      <td>5.0</td>\n",
       "      <td>No</td>\n",
       "      <td>6.0</td>\n",
       "      <td>6.0</td>\n",
       "      <td>Extrovert</td>\n",
       "    </tr>\n",
       "    <tr>\n",
       "      <th>6</th>\n",
       "      <td>4.0</td>\n",
       "      <td>No</td>\n",
       "      <td>9.0</td>\n",
       "      <td>NaN</td>\n",
       "      <td>No</td>\n",
       "      <td>7.0</td>\n",
       "      <td>7.0</td>\n",
       "      <td>Extrovert</td>\n",
       "    </tr>\n",
       "    <tr>\n",
       "      <th>7</th>\n",
       "      <td>2.0</td>\n",
       "      <td>No</td>\n",
       "      <td>8.0</td>\n",
       "      <td>4.0</td>\n",
       "      <td>No</td>\n",
       "      <td>7.0</td>\n",
       "      <td>8.0</td>\n",
       "      <td>Extrovert</td>\n",
       "    </tr>\n",
       "    <tr>\n",
       "      <th>8</th>\n",
       "      <td>10.0</td>\n",
       "      <td>Yes</td>\n",
       "      <td>1.0</td>\n",
       "      <td>3.0</td>\n",
       "      <td>Yes</td>\n",
       "      <td>0.0</td>\n",
       "      <td>3.0</td>\n",
       "      <td>Introvert</td>\n",
       "    </tr>\n",
       "    <tr>\n",
       "      <th>9</th>\n",
       "      <td>0.0</td>\n",
       "      <td>No</td>\n",
       "      <td>8.0</td>\n",
       "      <td>6.0</td>\n",
       "      <td>No</td>\n",
       "      <td>13.0</td>\n",
       "      <td>8.0</td>\n",
       "      <td>Extrovert</td>\n",
       "    </tr>\n",
       "  </tbody>\n",
       "</table>\n",
       "</div>"
      ],
      "text/plain": [
       "   Time_spent_Alone Stage_fear  Social_event_attendance  Going_outside  \\\n",
       "0               4.0         No                      4.0            6.0   \n",
       "1               9.0        Yes                      0.0            0.0   \n",
       "2               9.0        Yes                      1.0            2.0   \n",
       "3               0.0         No                      6.0            7.0   \n",
       "4               3.0         No                      9.0            4.0   \n",
       "5               1.0         No                      7.0            5.0   \n",
       "6               4.0         No                      9.0            NaN   \n",
       "7               2.0         No                      8.0            4.0   \n",
       "8              10.0        Yes                      1.0            3.0   \n",
       "9               0.0         No                      8.0            6.0   \n",
       "\n",
       "  Drained_after_socializing  Friends_circle_size  Post_frequency Personality  \n",
       "0                        No                 13.0             5.0   Extrovert  \n",
       "1                       Yes                  0.0             3.0   Introvert  \n",
       "2                       Yes                  5.0             2.0   Introvert  \n",
       "3                        No                 14.0             8.0   Extrovert  \n",
       "4                        No                  8.0             5.0   Extrovert  \n",
       "5                        No                  6.0             6.0   Extrovert  \n",
       "6                        No                  7.0             7.0   Extrovert  \n",
       "7                        No                  7.0             8.0   Extrovert  \n",
       "8                       Yes                  0.0             3.0   Introvert  \n",
       "9                        No                 13.0             8.0   Extrovert  "
      ]
     },
     "execution_count": 62,
     "metadata": {},
     "output_type": "execute_result"
    }
   ],
   "source": [
    "import pandas as pd\n",
    "import matplotlib.pyplot as plt\n",
    "\n",
    "df = pd.read_csv('personality_dataset.csv')\n",
    "\n",
    "print(f\"\\nFirst ten rows: \")\n",
    "df.head(10)\n",
    "\n"
   ]
  },
  {
   "cell_type": "code",
   "execution_count": 63,
   "id": "371455fa",
   "metadata": {},
   "outputs": [
    {
     "name": "stdout",
     "output_type": "stream",
     "text": [
      "\n",
      "\n",
      "Datatypes and statistics: \n",
      "\n",
      "\n",
      "Dataset information:\n",
      "<class 'pandas.core.frame.DataFrame'>\n",
      "RangeIndex: 2900 entries, 0 to 2899\n",
      "Data columns (total 8 columns):\n",
      " #   Column                     Non-Null Count  Dtype  \n",
      "---  ------                     --------------  -----  \n",
      " 0   Time_spent_Alone           2837 non-null   float64\n",
      " 1   Stage_fear                 2827 non-null   object \n",
      " 2   Social_event_attendance    2838 non-null   float64\n",
      " 3   Going_outside              2834 non-null   float64\n",
      " 4   Drained_after_socializing  2848 non-null   object \n",
      " 5   Friends_circle_size        2823 non-null   float64\n",
      " 6   Post_frequency             2835 non-null   float64\n",
      " 7   Personality                2900 non-null   object \n",
      "dtypes: float64(5), object(3)\n",
      "memory usage: 181.4+ KB\n"
     ]
    }
   ],
   "source": [
    "\n",
    "print(f\"\\n\\nDatatypes and statistics: \")\n",
    "print(\"\\n\\nDataset information:\" )\n",
    "df.info()"
   ]
  },
  {
   "cell_type": "markdown",
   "id": "19b8cda4",
   "metadata": {},
   "source": [
    "## Analysis of Friend Circle Sizes\n",
    "In this section, we examine how many friends people with different personality types tend to have."
   ]
  },
  {
   "cell_type": "markdown",
   "id": "09b1a4f4",
   "metadata": {},
   "source": [
    "## Time Spent Alone Analysis\n",
    "Here we visualize the relationship between personality types and time spent in solitude."
   ]
  },
  {
   "cell_type": "code",
   "execution_count": 64,
   "id": "d5cf7895",
   "metadata": {},
   "outputs": [
    {
     "name": "stdout",
     "output_type": "stream",
     "text": [
      "Personality of people with big friend groups\n"
     ]
    },
    {
     "data": {
      "text/html": [
       "<div>\n",
       "<style scoped>\n",
       "    .dataframe tbody tr th:only-of-type {\n",
       "        vertical-align: middle;\n",
       "    }\n",
       "\n",
       "    .dataframe tbody tr th {\n",
       "        vertical-align: top;\n",
       "    }\n",
       "\n",
       "    .dataframe thead th {\n",
       "        text-align: right;\n",
       "    }\n",
       "</style>\n",
       "<table border=\"1\" class=\"dataframe\">\n",
       "  <thead>\n",
       "    <tr style=\"text-align: right;\">\n",
       "      <th></th>\n",
       "      <th>Friends_circle_size</th>\n",
       "      <th>Personality</th>\n",
       "      <th>Time_spent_Alone</th>\n",
       "    </tr>\n",
       "  </thead>\n",
       "  <tbody>\n",
       "    <tr>\n",
       "      <th>0</th>\n",
       "      <td>13.0</td>\n",
       "      <td>Extrovert</td>\n",
       "      <td>4.0</td>\n",
       "    </tr>\n",
       "    <tr>\n",
       "      <th>3</th>\n",
       "      <td>14.0</td>\n",
       "      <td>Extrovert</td>\n",
       "      <td>0.0</td>\n",
       "    </tr>\n",
       "    <tr>\n",
       "      <th>9</th>\n",
       "      <td>13.0</td>\n",
       "      <td>Extrovert</td>\n",
       "      <td>0.0</td>\n",
       "    </tr>\n",
       "    <tr>\n",
       "      <th>10</th>\n",
       "      <td>15.0</td>\n",
       "      <td>Extrovert</td>\n",
       "      <td>3.0</td>\n",
       "    </tr>\n",
       "    <tr>\n",
       "      <th>12</th>\n",
       "      <td>14.0</td>\n",
       "      <td>Extrovert</td>\n",
       "      <td>3.0</td>\n",
       "    </tr>\n",
       "    <tr>\n",
       "      <th>...</th>\n",
       "      <td>...</td>\n",
       "      <td>...</td>\n",
       "      <td>...</td>\n",
       "    </tr>\n",
       "    <tr>\n",
       "      <th>2872</th>\n",
       "      <td>13.0</td>\n",
       "      <td>Extrovert</td>\n",
       "      <td>0.0</td>\n",
       "    </tr>\n",
       "    <tr>\n",
       "      <th>2875</th>\n",
       "      <td>14.0</td>\n",
       "      <td>Extrovert</td>\n",
       "      <td>0.0</td>\n",
       "    </tr>\n",
       "    <tr>\n",
       "      <th>2878</th>\n",
       "      <td>12.0</td>\n",
       "      <td>Extrovert</td>\n",
       "      <td>2.0</td>\n",
       "    </tr>\n",
       "    <tr>\n",
       "      <th>2894</th>\n",
       "      <td>12.0</td>\n",
       "      <td>Extrovert</td>\n",
       "      <td>0.0</td>\n",
       "    </tr>\n",
       "    <tr>\n",
       "      <th>2896</th>\n",
       "      <td>14.0</td>\n",
       "      <td>Extrovert</td>\n",
       "      <td>3.0</td>\n",
       "    </tr>\n",
       "  </tbody>\n",
       "</table>\n",
       "<p>608 rows × 3 columns</p>\n",
       "</div>"
      ],
      "text/plain": [
       "      Friends_circle_size Personality  Time_spent_Alone\n",
       "0                    13.0   Extrovert               4.0\n",
       "3                    14.0   Extrovert               0.0\n",
       "9                    13.0   Extrovert               0.0\n",
       "10                   15.0   Extrovert               3.0\n",
       "12                   14.0   Extrovert               3.0\n",
       "...                   ...         ...               ...\n",
       "2872                 13.0   Extrovert               0.0\n",
       "2875                 14.0   Extrovert               0.0\n",
       "2878                 12.0   Extrovert               2.0\n",
       "2894                 12.0   Extrovert               0.0\n",
       "2896                 14.0   Extrovert               3.0\n",
       "\n",
       "[608 rows x 3 columns]"
      ]
     },
     "execution_count": 64,
     "metadata": {},
     "output_type": "execute_result"
    }
   ],
   "source": [
    "stats = df[df['Friends_circle_size'] > 10]\n",
    "print(f\"Personality of people with big friend groups\")\n",
    "stats[['Friends_circle_size', 'Personality', 'Time_spent_Alone']]"
   ]
  },
  {
   "cell_type": "markdown",
   "id": "d72469fa",
   "metadata": {},
   "source": [
    "### Observations from Time Spent Analysis\n",
    "The horizontal bar chart above shows that personality types starting with \"I\" (introverts) \n",
    "generally spend more time alone than those starting with \"E\" (extroverts). \n",
    "Notably, introverts spends the most time alone at almost 4 times that of extroverts."
   ]
  },
  {
   "cell_type": "code",
   "execution_count": 65,
   "id": "b7039afc",
   "metadata": {},
   "outputs": [
    {
     "data": {
      "image/png": "[encoded data removed]",
      "text/plain": [
       "<Figure size 640x480 with 1 Axes>"
      ]
     },
     "metadata": {},
     "output_type": "display_data"
    }
   ],
   "source": [
    "friends = df.groupby('Personality')['Time_spent_Alone'].sum()\n",
    "friends = friends.sort_values(ascending=False)\n",
    "friends.plot(kind='barh')\n",
    "plt.xlabel(\"Total hours spent inside\")\n",
    "plt.savefig('diagram1.png')\n",
    "plt.show()\n",
    "friends.to_csv('resultat.csv')"
   ]
  },
  {
   "cell_type": "markdown",
   "id": "3919b59b",
   "metadata": {},
   "source": [
    "### Distribution Analysis\n",
    "The pie chart shows that 48.6% of our sample consists of introverts while 51.4% are extroverts.\n",
    "This distribution might affect other findings in our analysis."
   ]
  },
  {
   "cell_type": "code",
   "execution_count": 66,
   "id": "9c6a02c6",
   "metadata": {},
   "outputs": [
    {
     "data": {
      "image/png": "[encoded data removed]",
      "text/plain": [
       "<Figure size 800x800 with 1 Axes>"
      ]
     },
     "metadata": {},
     "output_type": "display_data"
    }
   ],
   "source": [
    "introvert_extrovert_counts = df['Personality'].value_counts()\n",
    "\n",
    "plt.figure(figsize=(8, 8))\n",
    "introvert_extrovert_counts.plot(kind='pie', \n",
    "                               autopct='%1.1f%%', \n",
    "                               colors=['#ff9999','#66b3ff'],\n",
    "                               startangle=90)\n",
    "plt.title('Distribution of Introverts vs Extroverts')\n",
    "plt.ylabel('')\n",
    "plt.savefig('diagram2.png')\n",
    "plt.show()"
   ]
  },
  {
   "cell_type": "markdown",
   "id": "7a7bb277",
   "metadata": {},
   "source": [
    "## Conclusions and Insights\n",
    "\n",
    "The analysis reveals several key insights:\n",
    "1. bla\n",
    "2. bla bla\n",
    "3. bla bla bla\n",
    "\n",
    "### Limitations\n",
    "- Sample size considerations\n",
    "- Potential biases in data collection\n",
    "- Other limitations\n",
    "\n",
    "### Future Analysis Ideas\n",
    "- Explore correlation with other variables like age or occupation\n",
    "- Compare with other personality frameworks\n",
    "- Conduct time-series analysis to see if these patterns change over time"
   ]
  }
 ],
 "metadata": {
  "kernelspec": {
   "display_name": "venv",
   "language": "python",
   "name": "python3"
  },
  "language_info": {
   "codemirror_mode": {
    "name": "ipython",
    "version": 3
   },
   "file_extension": ".py",
   "mimetype": "text/x-python",
   "name": "python",
   "nbconvert_exporter": "python",
   "pygments_lexer": "ipython3",
   "version": "3.12.1"
  }
 },
 "nbformat": 4,
 "nbformat_minor": 5
}
